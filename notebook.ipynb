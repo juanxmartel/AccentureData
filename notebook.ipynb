{
 "cells": [
  {
   "cell_type": "markdown",
   "id": "4c57812a",
   "metadata": {},
   "source": [
    "Avance 2 - Proyecto Final"
   ]
  },
  {
   "cell_type": "markdown",
   "id": "0f3431f6",
   "metadata": {},
   "source": [
    "En este notebook, se presenta el desarrollo de un sistema de análisis de ventas. El objetivo es procesar datos de ventas, cargarlos en una base de datos MySQL y realizar análisis complejos para extraer insights sobre el rendimiento de productos, sucursales y el comportamiento de los clientes. Se utilizarán principios de Programación Orientada a Objetos, patrones de diseño y SQL avanzado para construir una solución robusta y escalable."
   ]
  },
  {
   "cell_type": "markdown",
   "id": "ed212fa6",
   "metadata": {},
   "source": [
    "En la siguiente celda, importamos todas las librerías necesarias\n"
   ]
  },
  {
   "cell_type": "code",
   "execution_count": null,
   "id": "2430aad3",
   "metadata": {},
   "outputs": [
    {
     "name": "stdout",
     "output_type": "stream",
     "text": [
      "✅ Conexión exitosa\n"
     ]
    }
   ],
   "source": [
    "from src.database.db_connector import DatabaseConnector\n",
    "\n",
    "db = DatabaseConnector()\n",
    "session = db.get_session()\n",
    "print(\"✅ Conexión exitosa\")\n"
   ]
  },
  {
   "cell_type": "code",
   "execution_count": null,
   "id": "8391b847",
   "metadata": {},
   "outputs": [
    {
     "data": {
      "text/html": [
       "<div>\n",
       "<style scoped>\n",
       "    .dataframe tbody tr th:only-of-type {\n",
       "        vertical-align: middle;\n",
       "    }\n",
       "\n",
       "    .dataframe tbody tr th {\n",
       "        vertical-align: top;\n",
       "    }\n",
       "\n",
       "    .dataframe thead th {\n",
       "        text-align: right;\n",
       "    }\n",
       "</style>\n",
       "<table border=\"1\" class=\"dataframe\">\n",
       "  <thead>\n",
       "    <tr style=\"text-align: right;\">\n",
       "      <th></th>\n",
       "      <th>sale_id</th>\n",
       "      <th>employee_id</th>\n",
       "      <th>customer_id</th>\n",
       "      <th>product_id</th>\n",
       "      <th>quantity</th>\n",
       "      <th>discount</th>\n",
       "      <th>total_price</th>\n",
       "      <th>sale_time</th>\n",
       "      <th>transaction_number</th>\n",
       "    </tr>\n",
       "  </thead>\n",
       "  <tbody>\n",
       "    <tr>\n",
       "      <th>0</th>\n",
       "      <td>14</td>\n",
       "      <td>7</td>\n",
       "      <td>33133</td>\n",
       "      <td>406</td>\n",
       "      <td>9</td>\n",
       "      <td>0.00</td>\n",
       "      <td>63.00</td>\n",
       "      <td>39:52.0</td>\n",
       "      <td>VOP9A7Y4C5XSM2LLT0UJ\\r</td>\n",
       "    </tr>\n",
       "    <tr>\n",
       "      <th>1</th>\n",
       "      <td>170</td>\n",
       "      <td>10</td>\n",
       "      <td>19039</td>\n",
       "      <td>377</td>\n",
       "      <td>5</td>\n",
       "      <td>0.00</td>\n",
       "      <td>50.00</td>\n",
       "      <td>33:40.0</td>\n",
       "      <td>VIIKLFPVD2D5U5E3NKKA\\r</td>\n",
       "    </tr>\n",
       "    <tr>\n",
       "      <th>2</th>\n",
       "      <td>416</td>\n",
       "      <td>16</td>\n",
       "      <td>71212</td>\n",
       "      <td>351</td>\n",
       "      <td>19</td>\n",
       "      <td>0.00</td>\n",
       "      <td>304.00</td>\n",
       "      <td>40:57.4</td>\n",
       "      <td>QFA3F3LANPC6UVQBPYL2\\r</td>\n",
       "    </tr>\n",
       "    <tr>\n",
       "      <th>3</th>\n",
       "      <td>486</td>\n",
       "      <td>23</td>\n",
       "      <td>93253</td>\n",
       "      <td>417</td>\n",
       "      <td>24</td>\n",
       "      <td>0.00</td>\n",
       "      <td>552.00</td>\n",
       "      <td>59:29.4</td>\n",
       "      <td>6H8SDUI9MCA1IXZ4UCUE\\r</td>\n",
       "    </tr>\n",
       "    <tr>\n",
       "      <th>4</th>\n",
       "      <td>659</td>\n",
       "      <td>13</td>\n",
       "      <td>65151</td>\n",
       "      <td>147</td>\n",
       "      <td>17</td>\n",
       "      <td>0.20</td>\n",
       "      <td>221.00</td>\n",
       "      <td>27:58.9</td>\n",
       "      <td>1O062RUFV0LVAQ94G38J\\r</td>\n",
       "    </tr>\n",
       "  </tbody>\n",
       "</table>\n",
       "</div>"
      ],
      "text/plain": [
       "   sale_id  employee_id  customer_id  product_id  quantity discount  \\\n",
       "0       14            7        33133         406         9     0.00   \n",
       "1      170           10        19039         377         5     0.00   \n",
       "2      416           16        71212         351        19     0.00   \n",
       "3      486           23        93253         417        24     0.00   \n",
       "4      659           13        65151         147        17     0.20   \n",
       "\n",
       "  total_price sale_time      transaction_number  \n",
       "0       63.00   39:52.0  VOP9A7Y4C5XSM2LLT0UJ\\r  \n",
       "1       50.00   33:40.0  VIIKLFPVD2D5U5E3NKKA\\r  \n",
       "2      304.00   40:57.4  QFA3F3LANPC6UVQBPYL2\\r  \n",
       "3      552.00   59:29.4  6H8SDUI9MCA1IXZ4UCUE\\r  \n",
       "4      221.00   27:58.9  1O062RUFV0LVAQ94G38J\\r  "
      ]
     },
     "execution_count": 2,
     "metadata": {},
     "output_type": "execute_result"
    }
   ],
   "source": [
    "df = db.run_query(\"SELECT * FROM sales LIMIT 5\")\n",
    "df.head()"
   ]
  },
  {
   "cell_type": "markdown",
   "id": "ad157b30",
   "metadata": {},
   "source": [
    "Patrones de diseño\n",
    "Definición de Clases y Patrones de Diseño\n",
    "Patron factory"
   ]
  },
  {
   "cell_type": "code",
   "execution_count": null,
   "id": "7d482984",
   "metadata": {},
   "outputs": [
    {
     "name": "stdout",
     "output_type": "stream",
     "text": [
      "{'_customer_id': 1, '_first_name': 'Juan', '_middle_initial': 'M', '_last_name': 'Perez', '_city_id': 1, '_address': 'martinez 123'}\n"
     ]
    }
   ],
   "source": [
    "from src.factories.model_factory import ModelFactory\n",
    "\n",
    "row = {\n",
    "    \"CustomerID\": 1,\n",
    "    \"FirstName\": \"Juan\",\n",
    "    \"MiddleInitial\": \"M\",\n",
    "    \"LastName\": \"Perez\",\n",
    "    \"CityID\": 1,\n",
    "    \"Address\": \"martinez 123\",\n",
    "}\n",
    "\n",
    "customer = ModelFactory.create_customer(row)\n",
    "print(customer.__dict__)\n"
   ]
  },
  {
   "cell_type": "markdown",
   "id": "0fb29714",
   "metadata": {},
   "source": [
    "Implementación del patron Builder se mostrara con el SQL"
   ]
  },
  {
   "cell_type": "markdown",
   "id": "7a0ec3dc",
   "metadata": {},
   "source": [
    "5. Análisis de Ventas con SQL Avanzado\n",
    "\n",
    "En esta sección, se realizan consultas complejas para responder a preguntas clave del negocio.\n",
    "\n",
    "5.1. Ranking de Productos Más Vendidos por Categoría\n",
    "\n",
    "Pregunta de Negocio: ¿Cuáles son los 3 productos más vendidos (en cantidad) para cada categoría?\n",
    "*Técnica SQL:* Función de Ventana RANK() OVER (PARTITION BY ...)."
   ]
  },
  {
   "cell_type": "code",
   "execution_count": null,
   "id": "b11167f3",
   "metadata": {},
   "outputs": [],
   "source": [
    "query_ranking = \"\"\"\n",
    "    SELECT\n",
    "        CategoryName,\n",
    "        ProductName,\n",
    "        TotalQuantity,\n",
    "        ProductRank\n",
    "    FROM (\n",
    "        SELECT\n",
    "            c.CategoryName,\n",
    "            p.ProductName,\n",
    "            SUM(s.Quantity) AS TotalQuantity,\n",
    "            RANK() OVER (PARTITION BY c.CategoryName ORDER BY SUM(s.Quantity) DESC) AS ProductRank\n",
    "        FROM sales s\n",
    "        JOIN products p ON s.ProductID = p.ProductID\n",
    "        JOIN categories c ON p.CategoryID = c.CategoryID\n",
    "        GROUP BY c.CategoryName, p.ProductName\n",
    "    ) AS RankedProducts\n",
    "    WHERE ProductRank <= 3;\n",
    "\"\"\"\n",
    "df_ranking = db.run_query(query_ranking)\n",
    "\n",
    "print(\"Ranking de Productos:\")\n",
    "display(df_ranking)"
   ]
  },
  {
   "cell_type": "markdown",
   "id": "4c751354",
   "metadata": {},
   "source": [
    "5.2. Uso del `SalesQueryBuilder` para Consultas Dinámicas\n",
    "\n",
    "Ahora, usamos nuestro `SalesQueryBuilder` para encontrar las ventas del cliente con ID 45 y una cantidad mínima de 2 unidades"
   ]
  },
  {
   "cell_type": "code",
   "execution_count": null,
   "id": "817b24ed",
   "metadata": {},
   "outputs": [],
   "source": [
    "from src.builder.sale_query_builder import SalesQueryBuilder\n",
    "\n",
    "builder = SalesQueryBuilder()\n",
    "query_string, params = builder.with_customer(45).with_min_quantity(2).build()\n",
    "\n",
    "print(\"Consulta Construida:\", query_string)\n",
    "print(\"Parámetros:\", params)\n",
    "\n",
    "df_builder_result = db.run_query(query_string, params)\n",
    "\n",
    "display(df_builder_result)"
   ]
  },
  {
   "cell_type": "markdown",
   "id": "80d54a5c",
   "metadata": {},
   "source": [
    "5.2. Análisis de Gasto por Cliente (usando CTE)\n",
    "\n",
    "*Pregunta de Negocio:* ¿Quiénes son nuestros clientes más valiosos en una ciudad específica? Queremos identificar a los clientes con el mayor gasto total para posibles campañas de fidelización.\n",
    "\n",
    "*Técnica SQL:* Se utilizará una Expresión de Tabla Común (CTE) llamada CustomerSpending para primero calcular el gasto total y el número de compras por cliente. Luego, se unirá este resultado con la tabla de clientes para obtener sus nombres y filtrar por ciudad. El uso de un CTE hace que la consulta sea más legible y modular."
   ]
  },
  {
   "cell_type": "code",
   "execution_count": null,
   "id": "85d2e1cf",
   "metadata": {},
   "outputs": [],
   "source": [
    "query_customer_spending = \"\"\"\n",
    "    WITH CustomerSpending AS (\n",
    "        SELECT\n",
    "            CustomerID,\n",
    "            SUM(TotalPrice) AS TotalSpent,\n",
    "            COUNT(SalesID) AS NumberOfPurchases\n",
    "        FROM sales\n",
    "        GROUP BY CustomerID\n",
    "    )\n",
    "    SELECT\n",
    "        c.CustomerID,\n",
    "        c.FirstName,\n",
    "        c.LastName,\n",
    "        cs.TotalSpent,\n",
    "        cs.NumberOfPurchases\n",
    "    FROM customers c\n",
    "    JOIN CustomerSpending cs ON c.CustomerID = cs.CustomerID\n",
    "    WHERE c.CityID = 1 -- Filtramos por una ciudad de ejemplo\n",
    "    ORDER BY cs.TotalSpent DESC\n",
    "    LIMIT 10; -- Mostramos el top 10\n",
    "\"\"\"\n",
    "\n",
    "print(\"Ejecutando consulta para analizar el gasto por cliente:\")\n",
    "df_customer_spending = db.run_query(query_customer_spending)\n",
    "\n",
    "display(df_customer_spending)"
   ]
  },
  {
   "cell_type": "markdown",
   "id": "f81b0a4b",
   "metadata": {},
   "source": [
    "6. Uso de Vistas y Procedimientos Almacenados\n",
    "\n",
    "Finalmente, demostramos el uso de los objetos SQL creados para simplificar y automatizar el acceso a los datos.\n",
    "\n",
    "6.1. Consulta a la Vista `V_SalesOverview`"
   ]
  },
  {
   "cell_type": "code",
   "execution_count": null,
   "id": "8f76e2a8",
   "metadata": {},
   "outputs": [],
   "source": [
    "df_view = db.run_query(\"SELECT * FROM V_SalesOverview LIMIT 10;\")\n",
    "display(df_view)"
   ]
  },
  {
   "cell_type": "markdown",
   "id": "1b350c9a",
   "metadata": {},
   "source": [
    "6.2. Llamada al Procedimiento Almacenado `SP_GetProductSales`"
   ]
  },
  {
   "cell_type": "code",
   "execution_count": null,
   "id": "6cda8052",
   "metadata": {},
   "outputs": [],
   "source": [
    "df_sp = db.run_query(\"CALL SP_GetProductSales(101);\")\n",
    "display(df_sp)"
   ]
  },
  {
   "cell_type": "markdown",
   "id": "6c8c81d3",
   "metadata": {},
   "source": [
    "TESTS"
   ]
  },
  {
   "cell_type": "code",
   "execution_count": null,
   "id": "3557ce16",
   "metadata": {},
   "outputs": [
    {
     "name": "stdout",
     "output_type": "stream",
     "text": [
      "\u001b[32m.\u001b[0m\u001b[32m.\u001b[0m\u001b[32m.\u001b[0m\u001b[32m.\u001b[0m\u001b[32m                                                                     [100%]\u001b[0m\n",
      "\u001b[32m\u001b[32m\u001b[1m4 passed\u001b[0m\u001b[32m in 0.04s\u001b[0m\u001b[0m\n"
     ]
    }
   ],
   "source": [
    "!pytest -q test/ --tb=short"
   ]
  }
 ],
 "metadata": {
  "kernelspec": {
   "display_name": "entorno",
   "language": "python",
   "name": "python3"
  },
  "language_info": {
   "codemirror_mode": {
    "name": "ipython",
    "version": 3
   },
   "file_extension": ".py",
   "mimetype": "text/x-python",
   "name": "python",
   "nbconvert_exporter": "python",
   "pygments_lexer": "ipython3",
   "version": "3.13.2"
  }
 },
 "nbformat": 4,
 "nbformat_minor": 5
}
